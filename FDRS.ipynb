{
 "cells": [
  {
   "cell_type": "code",
   "execution_count": null,
   "id": "838d8218-681c-4dba-a1ae-4785722afceb",
   "metadata": {
    "tags": [
     "parameters"
    ]
   },
   "outputs": [],
   "source": [
    "flex_title = \"Indonesia Fire Danger Rating System\"\n",
    "flex_subtitle = \"Nusantara Earth Observation Network\""
   ]
  },
  {
   "cell_type": "code",
   "execution_count": null,
   "id": "705fe2ae-f452-4ea3-be65-82217aad52c7",
   "metadata": {},
   "outputs": [],
   "source": [
    "import ee\n",
    "import os\n",
    "from datetime import date, timedelta\n",
    "\n",
    "import ipyleaflet\n",
    "import ipyscales\n",
    "\n",
    "import ipywidgets as widgets\n",
    "from IPython.display import display\n",
    "\n",
    "ee_token = os.environ.get(\"EARTHENGINE_TOKEN\")\n",
    "if ee_token is not None:\n",
    "    credential_file_path = os.path.expanduser(\"~/.config/earthengine/\")\n",
    "    if not os.path.exists(credential_file_path):\n",
    "        credential = '{\"refresh_token\":\"%s\"}' % ee_token\n",
    "        os.makedirs(credential_file_path, exist_ok=True)\n",
    "        with open(credential_file_path + \"credentials\", \"w\") as file:\n",
    "            file.write(credential)\n",
    "ee.Initialize()"
   ]
  },
  {
   "cell_type": "code",
   "execution_count": null,
   "id": "91eb5123-73b8-43af-9bd8-00eb27d89733",
   "metadata": {},
   "outputs": [],
   "source": [
    "palette = ['blue', 'green', 'yellow', 'red']\n",
    "\n",
    "component_dict = {\n",
    "    'Fire Weather Index' : {\n",
    "        'prefix' : 'FWI',\n",
    "        'ranges' : [0, 1, 6, 13],\n",
    "    },\n",
    "    'Initial Spread Index' : {\n",
    "        'prefix' : 'ISI',\n",
    "        'ranges' : [0, 2, 4, 5],\n",
    "    },\n",
    "    'Buildup Index' : {\n",
    "        'prefix' : 'BUI',\n",
    "        'ranges' : [0, 7, 20, 33],\n",
    "    },\n",
    "    'Drought Code' : {\n",
    "        'prefix' : 'DC',\n",
    "        'ranges' : [0, 140, 260, 350],\n",
    "    },\n",
    "    'Duff Moisture Code' : {\n",
    "        'prefix' : 'DMC',\n",
    "        'ranges' : [0, 5, 15, 29],\n",
    "    },\n",
    "    'Fine Fuel Moisture Code' : {\n",
    "        'prefix' : 'FFMC',\n",
    "        'ranges' : [0, 73, 78, 82],\n",
    "    },\n",
    "}\n",
    "\n",
    "province_dict = {\n",
    "    'Sumatera Selatan' : {\n",
    "        'prefix' : 'ID-SS',\n",
    "    },\n",
    "    'Jambi' : {\n",
    "        'prefix' : 'ID-JA',\n",
    "    },\n",
    "    'Riau' : {\n",
    "        'prefix' : 'ID-RI',\n",
    "    },\n",
    "\n",
    "}"
   ]
  },
  {
   "cell_type": "markdown",
   "id": "86a6b6a8-1686-445a-927e-219b5d16f703",
   "metadata": {
    "tags": [
     "sidebar"
    ]
   },
   "source": [
    "## Sidebar"
   ]
  },
  {
   "cell_type": "markdown",
   "id": "f9f06f59-7493-4469-9dc2-15d488ae4965",
   "metadata": {
    "tags": [
     "body"
    ]
   },
   "source": [
    "### Parameters"
   ]
  },
  {
   "cell_type": "code",
   "execution_count": null,
   "id": "313f0af1-c059-418c-a9e6-53722753e76a",
   "metadata": {
    "tags": [
     "body"
    ]
   },
   "outputs": [],
   "source": [
    "# Province selection\n",
    "prov_label = widgets.Label(value='Province:')\n",
    "prov_var = widgets.Dropdown(\n",
    "    options=[\n",
    "        'Sumatera Selatan', 'Jambi', 'Riau',\n",
    "    ],\n",
    "    value='Sumatera Selatan',\n",
    ")\n",
    "\n",
    "# Observation date selection\n",
    "obs_label = widgets.Label(value='Date:')\n",
    "obs_var = widgets.DatePicker(\n",
    "    value=date.today() - timedelta(days=1)\n",
    ")\n",
    "\n",
    "# Component selection\n",
    "comp_label = widgets.Label(value='Component:')\n",
    "comp_var = widgets.Dropdown(\n",
    "    options=[\n",
    "        'Fine Fuel Moisture Code', 'Duff Moisture Code', \n",
    "        'Drought Code', 'Initial Spread Index', \n",
    "        'Buildup Index', 'Fire Weather Index'\n",
    "    ],\n",
    "    value='Fire Weather Index',\n",
    ")\n",
    "\n",
    "# Create and display the sidebar\n",
    "inputs = widgets.VBox([\n",
    "    prov_label, prov_var, \n",
    "    obs_label, obs_var, \n",
    "    comp_label, comp_var\n",
    "])\n",
    "display(inputs)"
   ]
  },
  {
   "cell_type": "markdown",
   "id": "8ca6cf06-cd2a-4391-a464-086fd042b3ca",
   "metadata": {
    "tags": [
     "body"
    ]
   },
   "source": [
    "### About"
   ]
  },
  {
   "cell_type": "markdown",
   "id": "d8cb5a63-e359-4a59-8de6-9d155e06e90c",
   "metadata": {
    "tags": [
     "body"
    ]
   },
   "source": [
    "This application shows calibrated Canadian Fire Weather Index (FWI) calculated by using data from GSMaP (JAXA) and GFS (NOAA).\n",
    "\n",
    "For more information, contact:\n",
    "[Josef Matondang](mailto:admin@josefmtd.com)"
   ]
  },
  {
   "cell_type": "markdown",
   "id": "d69c8b44-28d2-4196-a7bd-840c4fbe978d",
   "metadata": {},
   "source": [
    "## Column"
   ]
  },
  {
   "cell_type": "markdown",
   "id": "8109c340-a389-4cbd-9e88-baa22d034606",
   "metadata": {},
   "source": [
    "### Fire Weather Index"
   ]
  },
  {
   "cell_type": "code",
   "execution_count": null,
   "id": "253410ae-86b4-4e9c-a2c9-8e4d9ab67e27",
   "metadata": {},
   "outputs": [],
   "source": [
    "# Generate the basemap\n",
    "Map = ipyleaflet.Map(center=(0,120), zoom=7,\n",
    "    min_zoom=5, max_zoom=12, scroll_wheel_zoom=True,\n",
    "    basemap=ipyleaflet.basemaps.CartoDB.Positron,\n",
    ")\n",
    "\n",
    "def create_ee_tile_layer(image, vis_params, name):\n",
    "    # Use the Google Earth Engine eeImage dynamic tiling service\n",
    "    map_id_dict = image.getMapId(vis_params)\n",
    "    return ipyleaflet.TileLayer(\n",
    "        url=map_id_dict['tile_fetcher'].url_format,\n",
    "        attribution='National Oceanic and Atmospheric Agency, ' + \\\n",
    "            'Japan Aerospace Exploration Agency, Google Earth Engine',\n",
    "        name=name, opacity=0.6, shown=True\n",
    "    )\n",
    "\n",
    "def recenter_map(change):\n",
    "    # Get value change from callback function\n",
    "    prov = prov_var.value\n",
    "\n",
    "    # Add province parameters\n",
    "    province = ee.FeatureCollection('FAO/GAUL/2015/level1') \\\n",
    "        .filter(ee.Filter.eq('ADM1_NAME', prov))\n",
    "\n",
    "    # Set map center\n",
    "    center = ee.Feature(province.first()).centroid() \\\n",
    "        .geometry().getInfo()['coordinates']\n",
    "    Map.center = center[::-1]\n",
    "\n",
    "def generate_legend(change):\n",
    "    # Get value change from callback function\n",
    "    comp = comp_var.value\n",
    "\n",
    "    # Create colormap\n",
    "    ranges = component_dict[comp]['ranges']\n",
    "    cm = ipyscales.LinearColorScale(\n",
    "        range=tuple(palette),\n",
    "        domain=tuple(ranges)\n",
    "    )\n",
    "\n",
    "    # Generate legend widget on ipyleaflet\n",
    "    colorbar = ipyscales.ColorBar(\n",
    "        colormap=cm, length=250, width=10, orientation='horizontal',\n",
    "    )\n",
    "    legend = ipyleaflet.WidgetControl(\n",
    "        widget=colorbar, position='topright'\n",
    "    )\n",
    "\n",
    "    # Update the legend only if there's change\n",
    "    if change is not None:\n",
    "        Map.controls = Map.controls[:2]\n",
    "    Map.add_control(legend)\n",
    "\n",
    "def generate_fwi_layer(change):\n",
    "    # Get value change from callback function\n",
    "    obs = obs_var.value\n",
    "    comp = comp_var.value\n",
    "    prov = prov_var.value\n",
    "\n",
    "    # Obtain ee.Image from Google Cloud Storage\n",
    "    prefix = province_dict[prov]['prefix']\n",
    "    url = f'gs://fwi-bicubic-outputs/{prefix}_{obs.isoformat()}_FWI.tif'\n",
    "    fwi = ee.Image.loadGeoTIFF(url)\n",
    "\n",
    "    # Visualization parameters\n",
    "    ranges = component_dict[comp]['ranges']\n",
    "    vis_params = {\n",
    "        'min': ranges[0], \n",
    "        'max': ranges[-1], \n",
    "        'palette': palette,\n",
    "    }\n",
    "\n",
    "    # Add overlay layer\n",
    "    band = component_dict[comp]['prefix']\n",
    "    layer = create_ee_tile_layer(fwi.select(band), vis_params, comp)\n",
    "\n",
    "    if change is not None:\n",
    "        Map.layers = Map.layers[:1]\n",
    "    Map.add_layer(layer)"
   ]
  },
  {
   "cell_type": "code",
   "execution_count": null,
   "id": "73737272-ff1b-471d-86ba-d1775c76bafb",
   "metadata": {
    "tags": [
     "body"
    ]
   },
   "outputs": [],
   "source": [
    "# Update the layer\n",
    "prov_var.observe(generate_fwi_layer, names=\"value\")\n",
    "obs_var.observe(generate_fwi_layer, names=\"value\")\n",
    "comp_var.observe(generate_fwi_layer, names=\"value\")\n",
    "\n",
    "# Update legend and center\n",
    "comp_var.observe(generate_legend, names=\"value\")\n",
    "prov_var.observe(recenter_map, names=\"value\")\n",
    "\n",
    "# Shows the figure\n",
    "generate_fwi_layer(None)\n",
    "generate_legend(None)\n",
    "recenter_map(None)\n",
    "display(Map)"
   ]
  },
  {
   "cell_type": "code",
   "execution_count": null,
   "id": "791f384f-e166-4abf-8df5-8d790b75da8c",
   "metadata": {},
   "outputs": [],
   "source": []
  }
 ],
 "metadata": {
  "kernelspec": {
   "display_name": "Python 3 (ipykernel)",
   "language": "python",
   "name": "python3"
  },
  "language_info": {
   "codemirror_mode": {
    "name": "ipython",
    "version": 3
   },
   "file_extension": ".py",
   "mimetype": "text/x-python",
   "name": "python",
   "nbconvert_exporter": "python",
   "pygments_lexer": "ipython3",
   "version": "3.8.11"
  }
 },
 "nbformat": 4,
 "nbformat_minor": 5
}
