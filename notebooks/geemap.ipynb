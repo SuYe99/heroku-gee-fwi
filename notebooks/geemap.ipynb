{
 "cells": [
  {
   "cell_type": "code",
   "execution_count": 1,
   "metadata": {},
   "outputs": [],
   "source": [
    "import ee\n",
    "import geemap\n",
    "from datetime import datetime, timedelta"
   ]
  },
  {
   "cell_type": "markdown",
   "metadata": {},
   "source": [
    "## Fire Weather Index using NOAA's GFS and JAXA's GSMaP"
   ]
  },
  {
   "cell_type": "code",
   "execution_count": 2,
   "metadata": {},
   "outputs": [],
   "source": [
    "Map = geemap.Map(center=(-3, 104), zoom=7)"
   ]
  },
  {
   "cell_type": "code",
   "execution_count": 3,
   "metadata": {},
   "outputs": [
    {
     "name": "stdout",
     "output_type": "stream",
     "text": [
      "Date : 2021-07-14\n"
     ]
    }
   ],
   "source": [
    "date_str = (datetime.utcnow() - \\\n",
    "            timedelta(days = 1) + \\\n",
    "            timedelta(hours = 7)).date().isoformat()\n",
    "print(f'Date : {date_str}')"
   ]
  },
  {
   "cell_type": "code",
   "execution_count": 4,
   "metadata": {},
   "outputs": [],
   "source": [
    "url = f'gs://fwi-bicubic-outputs/ID-SS_{date_str}_FWI.tif'"
   ]
  },
  {
   "cell_type": "code",
   "execution_count": 5,
   "metadata": {},
   "outputs": [],
   "source": [
    "fwi_data = ee.Image.loadGeoTIFF(url)\n",
    "sumsel = ee.FeatureCollection('FAO/GAUL/2015/level2') \\\n",
    "    .filter(ee.Filter.eq('ADM1_NAME', 'Sumatera Selatan'))"
   ]
  },
  {
   "cell_type": "code",
   "execution_count": 6,
   "metadata": {},
   "outputs": [
    {
     "data": {
      "application/vnd.jupyter.widget-view+json": {
       "model_id": "9a24ef276657467db9fb520b2d943589",
       "version_major": 2,
       "version_minor": 0
      },
      "text/plain": [
       "Map(center=[-3, 104], controls=(WidgetControl(options=['position', 'transparent_bg'], widget=HBox(children=(To…"
      ]
     },
     "metadata": {},
     "output_type": "display_data"
    }
   ],
   "source": [
    "# Set visualization parameters.\n",
    "\n",
    "ffmc_vis_params = {\n",
    "  'min': 0.0,\n",
    "  'max': 101.0,\n",
    "  'palette': ['blue', 'green', 'yellow', 'red']\n",
    "}\n",
    "\n",
    "fwi_vis_params = {\n",
    "  'min': 0.0,\n",
    "  'max': 13.0,\n",
    "  'palette': ['blue', 'green', 'yellow', 'red']\n",
    "}\n",
    "\n",
    "# Add Earth Eninge layers to Map\n",
    "Map.addLayer(fwi_data.select('FFMC'), ffmc_vis_params, 'Fine Fuel Moisture Code')\n",
    "Map.addLayer(fwi_data.select('FWI'), fwi_vis_params,'Fire Weather Index')\n",
    "Map.addLayer(sumsel, {}, 'South Sumatra Subdistricts')\n",
    "Map"
   ]
  },
  {
   "cell_type": "code",
   "execution_count": null,
   "metadata": {},
   "outputs": [],
   "source": []
  }
 ],
 "metadata": {
  "kernelspec": {
   "display_name": "Python 3 (ipykernel)",
   "language": "python",
   "name": "python3"
  },
  "language_info": {
   "codemirror_mode": {
    "name": "ipython",
    "version": 3
   },
   "file_extension": ".py",
   "mimetype": "text/x-python",
   "name": "python",
   "nbconvert_exporter": "python",
   "pygments_lexer": "ipython3",
   "version": "3.9.5"
  }
 },
 "nbformat": 4,
 "nbformat_minor": 4
}
