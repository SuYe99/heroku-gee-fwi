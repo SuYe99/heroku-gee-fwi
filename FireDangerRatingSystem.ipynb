{
 "cells": [
  {
   "cell_type": "code",
   "execution_count": null,
   "source": [
    "flex_title = \"Indonesia Fire Danger Rating System\"\r\n",
    "flex_subtitle = \"Nusantara Earth Observation Network\"\r\n",
    "flex_custom_css = \"custom.css\""
   ],
   "outputs": [],
   "metadata": {
    "tags": [
     "parameters"
    ]
   }
  },
  {
   "cell_type": "code",
   "execution_count": null,
   "source": [
    "import ee\r\n",
    "import os\r\n",
    "from datetime import date, timedelta\r\n",
    "\r\n",
    "# Mapping backend\r\n",
    "import ipyleaflet\r\n",
    "import ipyscales\r\n",
    "\r\n",
    "# Interactive Python Widgets\r\n",
    "import ipywidgets as widgets\r\n",
    "from IPython.display import display, clear_output\r\n",
    "\r\n",
    "# Earth Engine token initialization\r\n",
    "ee_token = os.environ.get(\"EARTHENGINE_TOKEN\")\r\n",
    "if ee_token is not None:\r\n",
    "    credential_file_path = os.path.expanduser(\"~/.config/earthengine/\")\r\n",
    "    if not os.path.exists(credential_file_path):\r\n",
    "        credential = '{\"refresh_token\":\"%s\"}' % ee_token\r\n",
    "        os.makedirs(credential_file_path, exist_ok=True)\r\n",
    "        with open(credential_file_path + \"credentials\", \"w\") as file:\r\n",
    "            file.write(credential)\r\n",
    "ee.Initialize()"
   ],
   "outputs": [],
   "metadata": {}
  },
  {
   "cell_type": "code",
   "execution_count": null,
   "source": [
    "# Fire Weather Index components\r\n",
    "palette = ['blue', 'green', 'yellow', 'red']\r\n",
    "\r\n",
    "component_dict = {\r\n",
    "    'Fire Weather Index' : {\r\n",
    "        'prefix' : 'FWI',\r\n",
    "        'ranges' : [0, 1, 6, 13],\r\n",
    "    },\r\n",
    "    'Initial Spread Index' : {\r\n",
    "        'prefix' : 'ISI',\r\n",
    "        'ranges' : [0, 2, 4, 5],\r\n",
    "    },\r\n",
    "    'Buildup Index' : {\r\n",
    "        'prefix' : 'BUI',\r\n",
    "        'ranges' : [0, 7, 20, 33]\r\n",
    "    },\r\n",
    "    'Drought Code' : {\r\n",
    "        'prefix' : 'DC',\r\n",
    "        'ranges' : [0, 140, 260, 350],\r\n",
    "    },\r\n",
    "    'Duff Moisture Code' : {\r\n",
    "        'prefix' : 'DMC',\r\n",
    "        'ranges' : [0, 5, 15, 29],\r\n",
    "    },\r\n",
    "    'Fine Fuel Moisture Code' : {\r\n",
    "        'prefix' : 'FFMC',\r\n",
    "        'ranges' : [0, 73, 78, 82],\r\n",
    "    }\r\n",
    "}\r\n",
    "\r\n",
    "province_dict = {\r\n",
    "    'Sumatera Selatan' : {\r\n",
    "        'prefix' : 'ID-SS',\r\n",
    "    },\r\n",
    "    'Jambi' : {\r\n",
    "        'prefix' : 'ID-JA',\r\n",
    "    },\r\n",
    "    'Riau' : {\r\n",
    "        'prefix' : 'ID-RI',\r\n",
    "    }\r\n",
    "}"
   ],
   "outputs": [],
   "metadata": {}
  },
  {
   "cell_type": "markdown",
   "source": [
    "## Section"
   ],
   "metadata": {
    "tags": [
     "size=200"
    ]
   }
  },
  {
   "cell_type": "markdown",
   "source": [
    "### Parameters"
   ],
   "metadata": {}
  },
  {
   "cell_type": "code",
   "execution_count": null,
   "source": [
    "# Province selection\r\n",
    "prov_label = widgets.Label(value='Province:')\r\n",
    "prov_var = widgets.Dropdown(\r\n",
    "    options=[\r\n",
    "        'Sumatera Selatan', 'Jambi', 'Riau',\r\n",
    "    ],\r\n",
    "    value='Sumatera Selatan',\r\n",
    ")\r\n",
    "\r\n",
    "# Observation date selection\r\n",
    "obs_label = widgets.Label(value='Date:')\r\n",
    "obs_var = widgets.DatePicker(\r\n",
    "    value=date.today() - timedelta(days=1)\r\n",
    ")\r\n",
    "\r\n",
    "# Component selection\r\n",
    "comp_label = widgets.Label(value='Component:')\r\n",
    "comp_var = widgets.Dropdown(\r\n",
    "    options=[\r\n",
    "        'Fine Fuel Moisture Code', 'Duff Moisture Code', \r\n",
    "        'Drought Code', 'Initial Spread Index', \r\n",
    "        'Buildup Index', 'Fire Weather Index'\r\n",
    "    ],\r\n",
    "    value='Fire Weather Index',\r\n",
    ")\r\n",
    "\r\n",
    "# Create and display the sidebar\r\n",
    "inputs = widgets.VBox([\r\n",
    "    prov_label, prov_var, \r\n",
    "    obs_label, obs_var, \r\n",
    "    comp_label, comp_var\r\n",
    "])\r\n",
    "display(inputs)"
   ],
   "outputs": [],
   "metadata": {
    "tags": [
     "body"
    ]
   }
  },
  {
   "cell_type": "markdown",
   "source": [
    "### About"
   ],
   "metadata": {}
  },
  {
   "cell_type": "markdown",
   "source": [
    "This application shows calibrated Canadian Fire Weather Index (FWI) calculated by using data from GSMaP (JAXA) and GFS (NOAA).\n",
    "\n",
    "For more information, contact:\n",
    "[Josef Matondang](mailto:admin@josefmtd.com)"
   ],
   "metadata": {
    "tags": [
     "body"
    ]
   }
  },
  {
   "cell_type": "markdown",
   "source": [
    "## Column"
   ],
   "metadata": {
    "tags": [
     "size=800"
    ]
   }
  },
  {
   "cell_type": "markdown",
   "source": [
    "### Fire Weather Index"
   ],
   "metadata": {}
  },
  {
   "cell_type": "code",
   "execution_count": null,
   "source": [
    "Map = ipyleaflet.Map(center=(0,120), zoom=8,\r\n",
    "    min_zoom=5, max_zoom=12, scroll_wheel_zoom=True,\r\n",
    "    basemap=ipyleaflet.basemaps.CartoDB.Positron,\r\n",
    ")\r\n",
    "\r\n",
    "def create_ee_tile_layer(image, vis_params, name):\r\n",
    "    map_id_dict = image.getMapId(vis_params)\r\n",
    "    return ipyleaflet.TileLayer(\r\n",
    "        url=map_id_dict['tile_fetcher'].url_format,\r\n",
    "        attribution='NOAA, JAXA, Google Earth Engine',\r\n",
    "        name=name, opacity=0.6, shown=True\r\n",
    "    )\r\n",
    "\r\n",
    "def generate_legend(change):\r\n",
    "    comp = comp_var.value\r\n",
    "\r\n",
    "    # Generate legend\r\n",
    "    ranges = component_dict[comp]['ranges']\r\n",
    "    cm = ipyscales.LinearColorScale(\r\n",
    "        range=tuple(palette),\r\n",
    "        domain=tuple(ranges)\r\n",
    "    )\r\n",
    "\r\n",
    "    colorbar = ipyscales.ColorBar(\r\n",
    "        colormap=cm, length=250, width=10, orientation='horizontal',\r\n",
    "    )\r\n",
    "\r\n",
    "    legend = ipyleaflet.WidgetControl(\r\n",
    "        widget=colorbar, position='topright'\r\n",
    "    )\r\n",
    "\r\n",
    "    if change is not None:\r\n",
    "        Map.controls = Map.controls[:2]\r\n",
    "    Map.add_control(legend)\r\n",
    "\r\n",
    "def generate_fwi_layer(change):\r\n",
    "    obs = obs_var.value\r\n",
    "    comp = comp_var.value\r\n",
    "    prov = prov_var.value\r\n",
    "\r\n",
    "    # Obtain ee.Image from Google Cloud Storage\r\n",
    "    prefix = province_dict[prov]['prefix']\r\n",
    "    url = f'gs://fwi-bicubic-outputs/{prefix}_{obs.isoformat()}_FWI.tif'\r\n",
    "    fwi_data = ee.Image.loadGeoTIFF(url)\r\n",
    "\r\n",
    "    # Visualization parameters\r\n",
    "    ranges = component_dict[comp]['ranges']\r\n",
    "    vis_params = {\r\n",
    "        'min': ranges[0], \r\n",
    "        'max': ranges[-1], \r\n",
    "        'palette': palette\r\n",
    "    }\r\n",
    "\r\n",
    "    # Add province parameters\r\n",
    "    province = ee.FeatureCollection('FAO/GAUL/2015/level1') \\\r\n",
    "        .filter(ee.Filter.eq('ADM1_NAME', prov))\r\n",
    "    regencies = ee.FeatureCollection('FAO/GAUL/2015/level2') \\\r\n",
    "        .filter(ee.Filter.eq('ADM1_NAME', prov))\r\n",
    "\r\n",
    "    # Set map center\r\n",
    "    center = ee.Feature(province.first()).centroid() \\\r\n",
    "        .geometry().getInfo()['coordinates']\r\n",
    "    Map.center = center[::-1]\r\n",
    "\r\n",
    "    # Add overlay layer\r\n",
    "    band_name = component_dict[comp]['prefix']\r\n",
    "    layer = create_ee_tile_layer(fwi_data.select(band_name), vis_params, comp)\r\n",
    "\r\n",
    "    if change is not None:\r\n",
    "        Map.layers = Map.layers[:1]\r\n",
    "    Map.add_layer(layer)"
   ],
   "outputs": [],
   "metadata": {}
  },
  {
   "cell_type": "code",
   "execution_count": null,
   "source": [
    "# Create output figure and callback functions to update the values\r\n",
    "prov_var.observe(generate_fwi_layer, names=\"value\")\r\n",
    "obs_var.observe(generate_fwi_layer, names=\"value\")\r\n",
    "comp_var.observe(generate_fwi_layer, names=\"value\")\r\n",
    "comp_var.observe(generate_legend, names=\"value\")\r\n",
    "\r\n",
    "# Shows the figure\r\n",
    "generate_fwi_layer(None)\r\n",
    "generate_legend(None)\r\n",
    "display(Map)"
   ],
   "outputs": [],
   "metadata": {
    "tags": [
     "body",
     "class=fwi-map"
    ]
   }
  }
 ],
 "metadata": {
  "celltoolbar": "Tags",
  "interpreter": {
   "hash": "456e0795d6f3aab2473551b267d04c9b6c216f0918c2556a05f5f3b39cb316d5"
  },
  "kernelspec": {
   "name": "python3",
   "display_name": "Python 3.9.6 64-bit ('notebook': conda)"
  },
  "language_info": {
   "codemirror_mode": {
    "name": "ipython",
    "version": 3
   },
   "file_extension": ".py",
   "mimetype": "text/x-python",
   "name": "python",
   "nbconvert_exporter": "python",
   "pygments_lexer": "ipython3",
   "version": "3.9.6"
  },
  "toc-autonumbering": false,
  "toc-showcode": false,
  "toc-showtags": true
 },
 "nbformat": 4,
 "nbformat_minor": 4
}