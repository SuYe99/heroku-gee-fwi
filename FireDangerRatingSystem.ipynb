{
 "cells": [
  {
   "cell_type": "code",
   "execution_count": 1,
   "source": [
    "flex_home = \"https://josefmtd.com\"\r\n",
    "flex_title = \"South Sumatra Fire Danger Rating System\"\r\n",
    "flex_subtitle = \"Josef Matondang - 2021\""
   ],
   "outputs": [],
   "metadata": {
    "tags": [
     "parameters"
    ]
   }
  },
  {
   "cell_type": "code",
   "execution_count": 4,
   "source": [
    "import ee\r\n",
    "import folium\r\n",
    "import geemap.foliumap as geemap\r\n",
    "from datetime import date, timedelta\r\n",
    "\r\n",
    "# Interactive Python Widgets\r\n",
    "import ipywidgets as widgets\r\n",
    "from IPython.display import display, clear_output\r\n",
    "\r\n",
    "min_dict = {\r\n",
    "    'FWI' : 1.0, 'ISI' : 1.0, 'BUI' : 6.0,\r\n",
    "    'DC' : 140.0, 'DMC' : 4.0, 'FFMC' : 72.0,\r\n",
    "}\r\n",
    "\r\n",
    "max_dict = {\r\n",
    "    'FWI' : 13.0, 'ISI' : 5.0, 'BUI' : 33.0,\r\n",
    "    'DC' : 350.0, 'DMC' : 29.0, 'FFMC' : 82.0,\r\n",
    "}"
   ],
   "outputs": [],
   "metadata": {}
  },
  {
   "cell_type": "markdown",
   "source": [
    "## Section"
   ],
   "metadata": {
    "tags": [
     "size=200"
    ]
   }
  },
  {
   "cell_type": "markdown",
   "source": [
    "### Parameters"
   ],
   "metadata": {}
  },
  {
   "cell_type": "code",
   "execution_count": 3,
   "source": [
    "obs_label = widgets.Label(value='Date:')\r\n",
    "obs_var = widgets.DatePicker(\r\n",
    "    value=date.today() - timedelta(days=1)\r\n",
    ")\r\n",
    "\r\n",
    "comp_label = widgets.Label(value='Component:')\r\n",
    "comp_var = widgets.Dropdown(\r\n",
    "    options=[\r\n",
    "        'FFMC', 'DMC', 'DC', 'ISI', 'BUI', 'FWI'\r\n",
    "    ],\r\n",
    "    value='FWI',\r\n",
    ")\r\n",
    "\r\n",
    "widgets.VBox([obs_label, obs_var, comp_label, comp_var])"
   ],
   "outputs": [
    {
     "output_type": "display_data",
     "data": {
      "text/plain": [
       "VBox(children=(Label(value='Date:'), DatePicker(value=datetime.date(2021, 8, 2))))"
      ],
      "application/vnd.jupyter.widget-view+json": {
       "version_major": 2,
       "version_minor": 0,
       "model_id": "6611778d703748ab9802fd6275cfad33"
      }
     },
     "metadata": {}
    }
   ],
   "metadata": {
    "tags": [
     "body"
    ]
   }
  },
  {
   "cell_type": "markdown",
   "source": [
    "## Column"
   ],
   "metadata": {
    "tags": [
     "size=800"
    ]
   }
  },
  {
   "cell_type": "markdown",
   "source": [
    "### Fire Weather Index"
   ],
   "metadata": {}
  },
  {
   "cell_type": "code",
   "execution_count": 4,
   "source": [
    "out = widgets.Output()"
   ],
   "outputs": [],
   "metadata": {}
  },
  {
   "cell_type": "code",
   "execution_count": 5,
   "source": [
    "def on_value_change(change):\r\n",
    "    obs = obs_var.value\r\n",
    "    comp = comp_var.value\r\n",
    "\r\n",
    "    with out:\r\n",
    "        fig = folium.Figure(height=\"100%\")\r\n",
    "        Map = geemap.Map(center=(-3.1, 104.1), zoom=8,\r\n",
    "            add_google_map=False).add_to(fig)\r\n",
    "\r\n",
    "        url = f'gs://fwi-bicubic-outputs/ID-SS_{obs.isoformat()}_FWI.tif'\r\n",
    "        fwi_data = ee.Image.loadGeoTIFF(url)\r\n",
    "        palette = ['blue', 'green', 'yellow', 'red']\r\n",
    "\r\n",
    "        min_val = min_dict[comp]\r\n",
    "        max_val = max_dict[comp]\r\n",
    "\r\n",
    "        vis_params = {\r\n",
    "            'min': min_val, \r\n",
    "            'max': max_val, \r\n",
    "            'palette': palette\r\n",
    "        }\r\n",
    "\r\n",
    "        sumatera_selatan = ee.FeatureCollection('FAO/GAUL/2015/level2') \\\r\n",
    "            .filter(ee.Filter.eq('ADM1_NAME', 'Sumatera Selatan'))\r\n",
    "\r\n",
    "        Map.addLayer(fwi_data.select(comp), vis_params, comp)\r\n",
    "        Map.addLayer(sumatera_selatan, {'fillColor' : 'ffffff'}, 'South Sumatra')\r\n",
    "        Map.add_colorbar(colors=palette, vmin=min_val, vmax=max_val)\r\n",
    "        clear_output(wait=True)\r\n",
    "        display(Map)\r\n",
    "\r\n",
    "obs_var.observe(on_value_change, names=\"value\")\r\n",
    "comp_var.observe(on_value_change, names=\"value\")"
   ],
   "outputs": [],
   "metadata": {}
  },
  {
   "cell_type": "code",
   "execution_count": 6,
   "source": [
    "on_value_change(None)\r\n",
    "out"
   ],
   "outputs": [
    {
     "output_type": "display_data",
     "data": {
      "text/plain": [
       "Output()"
      ],
      "application/vnd.jupyter.widget-view+json": {
       "version_major": 2,
       "version_minor": 0,
       "model_id": "aa5cce8eddfc48ff929b4dafc547c26e"
      }
     },
     "metadata": {}
    }
   ],
   "metadata": {
    "tags": [
     "body"
    ]
   }
  },
  {
   "cell_type": "code",
   "execution_count": null,
   "source": [],
   "outputs": [],
   "metadata": {}
  }
 ],
 "metadata": {
  "interpreter": {
   "hash": "456e0795d6f3aab2473551b267d04c9b6c216f0918c2556a05f5f3b39cb316d5"
  },
  "kernelspec": {
   "name": "python3",
   "display_name": "Python 3.9.6 64-bit ('notebook': conda)"
  },
  "language_info": {
   "codemirror_mode": {
    "name": "ipython",
    "version": 3
   },
   "file_extension": ".py",
   "mimetype": "text/x-python",
   "name": "python",
   "nbconvert_exporter": "python",
   "pygments_lexer": "ipython3",
   "version": "3.9.6"
  },
  "toc-autonumbering": false,
  "toc-showcode": false,
  "toc-showtags": true
 },
 "nbformat": 4,
 "nbformat_minor": 4
}