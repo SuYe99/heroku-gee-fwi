{
 "cells": [
  {
   "cell_type": "code",
   "execution_count": 1,
   "source": [
    "flex_title = \"Indonesia Fire Danger Rating System\"\r\n",
    "flex_subtitle = \"Nusantara Earth Observation Network\""
   ],
   "outputs": [],
   "metadata": {
    "tags": [
     "parameters"
    ]
   }
  },
  {
   "cell_type": "code",
   "execution_count": 2,
   "source": [
    "import ee\r\n",
    "from datetime import date, timedelta\r\n",
    "\r\n",
    "# Mapping backend\r\n",
    "import folium\r\n",
    "import geemap.foliumap as geemap\r\n",
    "\r\n",
    "# Interactive Python Widgets\r\n",
    "import ipywidgets as widgets\r\n",
    "from IPython.display import display, clear_output\r\n",
    "\r\n",
    "min_dict = {\r\n",
    "    'FWI' : 1.0, 'ISI' : 1.0, 'BUI' : 6.0,\r\n",
    "    'DC' : 140.0, 'DMC' : 4.0, 'FFMC' : 72.0,\r\n",
    "}\r\n",
    "\r\n",
    "max_dict = {\r\n",
    "    'FWI' : 13.0, 'ISI' : 5.0, 'BUI' : 33.0,\r\n",
    "    'DC' : 350.0, 'DMC' : 29.0, 'FFMC' : 82.0,\r\n",
    "}\r\n",
    "\r\n",
    "palette = ['blue', 'green', 'yellow', 'red']"
   ],
   "outputs": [],
   "metadata": {}
  },
  {
   "cell_type": "markdown",
   "source": [
    "## Section"
   ],
   "metadata": {
    "tags": [
     "size=200"
    ]
   }
  },
  {
   "cell_type": "markdown",
   "source": [
    "### Parameters"
   ],
   "metadata": {}
  },
  {
   "cell_type": "code",
   "execution_count": 3,
   "source": [
    "# Province selection\r\n",
    "prov_label = widgets.Label(value='Province:')\r\n",
    "prov_var = widgets.Dropdown(\r\n",
    "    options=[\r\n",
    "        'Sumatera Selatan',\r\n",
    "    ],\r\n",
    "    value='Sumatera Selatan',\r\n",
    ")\r\n",
    "\r\n",
    "# Observation date selection\r\n",
    "obs_label = widgets.Label(value='Date:')\r\n",
    "obs_var = widgets.DatePicker(\r\n",
    "    value=date.today() - timedelta(days=1)\r\n",
    ")\r\n",
    "\r\n",
    "# Component selection\r\n",
    "comp_label = widgets.Label(value='Component:')\r\n",
    "comp_var = widgets.Dropdown(\r\n",
    "    options=[\r\n",
    "        'FFMC', 'DMC', 'DC', 'ISI', 'BUI', 'FWI'\r\n",
    "    ],\r\n",
    "    value='FWI',\r\n",
    ")\r\n",
    "\r\n",
    "# Create and display the sidebar\r\n",
    "inputs = widgets.VBox([prov_label, prov_var, obs_label, obs_var, comp_label, comp_var])\r\n",
    "display(inputs)"
   ],
   "outputs": [
    {
     "output_type": "display_data",
     "data": {
      "text/plain": [
       "VBox(children=(Label(value='Province:'), Dropdown(options=('Sumatera Selatan',), value='Sumatera Selatan'), La…"
      ],
      "application/vnd.jupyter.widget-view+json": {
       "model_id": "bc896c6b91dd45dbad984c66caaf9467",
       "version_major": 2,
       "version_minor": 0
      }
     },
     "metadata": {}
    }
   ],
   "metadata": {
    "tags": [
     "body"
    ]
   }
  },
  {
   "cell_type": "markdown",
   "source": [
    "### About"
   ],
   "metadata": {}
  },
  {
   "cell_type": "markdown",
   "source": [
    "This application shows calibrated Canadian Fire Weather Index (FWI) calculated by using data from GSMaP (JAXA) and GFS (NOAA).\r\n",
    "\r\n",
    "For more information, contact:\r\n",
    "[Josef Matondang](mailto:admin@josefmtd.com)"
   ],
   "metadata": {
    "tags": [
     "body"
    ]
   }
  },
  {
   "cell_type": "markdown",
   "source": [
    "## Column"
   ],
   "metadata": {
    "tags": [
     "size=800"
    ]
   }
  },
  {
   "cell_type": "markdown",
   "source": [
    "### Fire Weather Index"
   ],
   "metadata": {}
  },
  {
   "cell_type": "code",
   "execution_count": 5,
   "source": [
    "def on_value_change(change):\r\n",
    "    obs = obs_var.value\r\n",
    "    comp = comp_var.value\r\n",
    "    prov = prov_var.value\r\n",
    "\r\n",
    "    with out:\r\n",
    "        clear_output(wait=True)\r\n",
    "\r\n",
    "        # Create folium map object\r\n",
    "        fig = folium.Figure(height=\"100%\")\r\n",
    "        Map = geemap.Map(center=(-3.1, 104.1), zoom=7,\r\n",
    "            add_google_map=False).add_to(fig)\r\n",
    "\r\n",
    "        # Obtain ee.Image from Google Cloud Storage\r\n",
    "        url = f'gs://fwi-bicubic-outputs/ID-SS_{obs.isoformat()}_FWI.tif'\r\n",
    "        fwi_data = ee.Image.loadGeoTIFF(url)\r\n",
    "\r\n",
    "        # Visualization parameters\r\n",
    "        min_val = min_dict[comp]\r\n",
    "        max_val = max_dict[comp]\r\n",
    "        vis_params = {\r\n",
    "            'min': min_val, \r\n",
    "            'max': max_val, \r\n",
    "            'palette': palette\r\n",
    "        }\r\n",
    "\r\n",
    "        # Add province parameters\r\n",
    "        province = ee.FeatureCollection('FAO/GAUL/2015/level2') \\\r\n",
    "            .filter(ee.Filter.eq('ADM1_NAME', prov))\r\n",
    "\r\n",
    "        # Add overlay layer\r\n",
    "        Map.addLayer(fwi_data.select(comp), vis_params, comp)\r\n",
    "        Map.addLayer(province, {}, prov)\r\n",
    "        Map.add_colorbar(colors=palette, vmin=min_val, vmax=max_val)\r\n",
    "        display(Map)\r\n",
    "\r\n",
    "# Create output figure and callback functions to update the values\r\n",
    "out = widgets.Output()\r\n",
    "prov_var.observe(on_value_change, names=\"value\")\r\n",
    "obs_var.observe(on_value_change, names=\"value\")\r\n",
    "comp_var.observe(on_value_change, names=\"value\")"
   ],
   "outputs": [],
   "metadata": {}
  },
  {
   "cell_type": "code",
   "execution_count": 6,
   "source": [
    "# Shows the figure\r\n",
    "on_value_change(None)\r\n",
    "display(out)"
   ],
   "outputs": [
    {
     "output_type": "display_data",
     "data": {
      "text/plain": [
       "Output()"
      ],
      "application/vnd.jupyter.widget-view+json": {
       "model_id": "edbad36c233a4b70b3fa674c52687012",
       "version_major": 2,
       "version_minor": 0
      }
     },
     "metadata": {}
    }
   ],
   "metadata": {
    "tags": [
     "body"
    ]
   }
  }
 ],
 "metadata": {
  "interpreter": {
   "hash": "456e0795d6f3aab2473551b267d04c9b6c216f0918c2556a05f5f3b39cb316d5"
  },
  "kernelspec": {
   "name": "python3",
   "display_name": "Python 3.9.6 64-bit ('notebook': conda)"
  },
  "language_info": {
   "codemirror_mode": {
    "name": "ipython",
    "version": 3
   },
   "file_extension": ".py",
   "mimetype": "text/x-python",
   "name": "python",
   "nbconvert_exporter": "python",
   "pygments_lexer": "ipython3",
   "version": "3.9.6"
  },
  "toc-autonumbering": false,
  "toc-showcode": false,
  "toc-showtags": true
 },
 "nbformat": 4,
 "nbformat_minor": 4
}